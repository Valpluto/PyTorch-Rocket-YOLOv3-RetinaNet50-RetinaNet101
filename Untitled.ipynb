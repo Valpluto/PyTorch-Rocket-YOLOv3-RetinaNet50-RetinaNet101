{
 "cells": [
  {
   "cell_type": "code",
   "execution_count": 19,
   "metadata": {},
   "outputs": [
    {
     "name": "stdout",
     "output_type": "stream",
     "text": [
      "Collecting package metadata (current_repodata.json): done\n",
      "Solving environment: done\n",
      "\n",
      "# All requested packages already installed.\n",
      "\n",
      "Requirement already satisfied: torch in /vol/home/s2508907/miniconda3/lib/python3.7/site-packages (1.5.0)\n",
      "Requirement already satisfied: future in /vol/home/s2508907/miniconda3/lib/python3.7/site-packages (from torch) (0.18.2)\n",
      "Requirement already satisfied: numpy in /vol/home/s2508907/miniconda3/lib/python3.7/site-packages (from torch) (1.18.4)\n",
      "Requirement already satisfied: rocketbase in /vol/home/s2508907/miniconda3/lib/python3.7/site-packages (0.4.0)\n",
      "Requirement already satisfied: Pillow>=6.0.0 in /vol/home/s2508907/miniconda3/lib/python3.7/site-packages (from rocketbase) (7.1.2)\n",
      "Requirement already satisfied: tqdm in /vol/home/s2508907/miniconda3/lib/python3.7/site-packages (from rocketbase) (4.46.0)\n",
      "Requirement already satisfied: torchvision>=0.2.2.post3 in /vol/home/s2508907/miniconda3/lib/python3.7/site-packages (from rocketbase) (0.6.0)\n",
      "Requirement already satisfied: opencv-python>=4.1.0.25 in /vol/home/s2508907/miniconda3/lib/python3.7/site-packages (from rocketbase) (4.2.0.34)\n",
      "Requirement already satisfied: torch>=1.0.1.post2 in /vol/home/s2508907/miniconda3/lib/python3.7/site-packages (from rocketbase) (1.5.0)\n",
      "Requirement already satisfied: numpy>=1.16.3 in /vol/home/s2508907/miniconda3/lib/python3.7/site-packages (from rocketbase) (1.18.4)\n",
      "Requirement already satisfied: scipy>=1.2.1 in /vol/home/s2508907/miniconda3/lib/python3.7/site-packages (from rocketbase) (1.4.1)\n",
      "Requirement already satisfied: scikit-image>=0.15.0 in /vol/home/s2508907/miniconda3/lib/python3.7/site-packages (from rocketbase) (0.17.2)\n",
      "Requirement already satisfied: requests in /vol/home/s2508907/miniconda3/lib/python3.7/site-packages (from rocketbase) (2.23.0)\n",
      "Requirement already satisfied: google-cloud-storage in /vol/home/s2508907/miniconda3/lib/python3.7/site-packages (from rocketbase) (1.28.1)\n",
      "Requirement already satisfied: future in /vol/home/s2508907/miniconda3/lib/python3.7/site-packages (from torch>=1.0.1.post2->rocketbase) (0.18.2)\n",
      "Requirement already satisfied: tifffile>=2019.7.26 in /vol/home/s2508907/miniconda3/lib/python3.7/site-packages (from scikit-image>=0.15.0->rocketbase) (2020.5.25)\n",
      "Requirement already satisfied: PyWavelets>=1.1.1 in /vol/home/s2508907/miniconda3/lib/python3.7/site-packages (from scikit-image>=0.15.0->rocketbase) (1.1.1)\n",
      "Requirement already satisfied: matplotlib!=3.0.0,>=2.0.0 in /vol/home/s2508907/miniconda3/lib/python3.7/site-packages (from scikit-image>=0.15.0->rocketbase) (3.2.1)\n",
      "Requirement already satisfied: networkx>=2.0 in /vol/home/s2508907/miniconda3/lib/python3.7/site-packages (from scikit-image>=0.15.0->rocketbase) (2.4)\n",
      "Requirement already satisfied: imageio>=2.3.0 in /vol/home/s2508907/miniconda3/lib/python3.7/site-packages (from scikit-image>=0.15.0->rocketbase) (2.8.0)\n",
      "Requirement already satisfied: idna<3,>=2.5 in /vol/home/s2508907/miniconda3/lib/python3.7/site-packages (from requests->rocketbase) (2.9)\n",
      "Requirement already satisfied: certifi>=2017.4.17 in /vol/home/s2508907/miniconda3/lib/python3.7/site-packages (from requests->rocketbase) (2020.4.5.1)\n",
      "Requirement already satisfied: chardet<4,>=3.0.2 in /vol/home/s2508907/miniconda3/lib/python3.7/site-packages (from requests->rocketbase) (3.0.4)\n",
      "Requirement already satisfied: urllib3!=1.25.0,!=1.25.1,<1.26,>=1.21.1 in /vol/home/s2508907/miniconda3/lib/python3.7/site-packages (from requests->rocketbase) (1.24.3)\n",
      "Requirement already satisfied: google-cloud-core<2.0dev,>=1.2.0 in /vol/home/s2508907/miniconda3/lib/python3.7/site-packages (from google-cloud-storage->rocketbase) (1.3.0)\n",
      "Requirement already satisfied: google-resumable-media<0.6dev,>=0.5.0 in /vol/home/s2508907/miniconda3/lib/python3.7/site-packages (from google-cloud-storage->rocketbase) (0.5.0)\n",
      "Requirement already satisfied: google-auth<2.0dev,>=1.11.0 in /vol/home/s2508907/miniconda3/lib/python3.7/site-packages (from google-cloud-storage->rocketbase) (1.15.0)\n",
      "Requirement already satisfied: python-dateutil>=2.1 in /vol/home/s2508907/miniconda3/lib/python3.7/site-packages (from matplotlib!=3.0.0,>=2.0.0->scikit-image>=0.15.0->rocketbase) (2.8.1)\n",
      "Requirement already satisfied: pyparsing!=2.0.4,!=2.1.2,!=2.1.6,>=2.0.1 in /vol/home/s2508907/miniconda3/lib/python3.7/site-packages (from matplotlib!=3.0.0,>=2.0.0->scikit-image>=0.15.0->rocketbase) (2.4.7)\n",
      "Requirement already satisfied: cycler>=0.10 in /vol/home/s2508907/miniconda3/lib/python3.7/site-packages (from matplotlib!=3.0.0,>=2.0.0->scikit-image>=0.15.0->rocketbase) (0.10.0)\n",
      "Requirement already satisfied: kiwisolver>=1.0.1 in /vol/home/s2508907/miniconda3/lib/python3.7/site-packages (from matplotlib!=3.0.0,>=2.0.0->scikit-image>=0.15.0->rocketbase) (1.2.0)\n",
      "Requirement already satisfied: decorator>=4.3.0 in /vol/home/s2508907/miniconda3/lib/python3.7/site-packages (from networkx>=2.0->scikit-image>=0.15.0->rocketbase) (4.4.2)\n",
      "Requirement already satisfied: google-api-core<2.0.0dev,>=1.16.0 in /vol/home/s2508907/miniconda3/lib/python3.7/site-packages (from google-cloud-core<2.0dev,>=1.2.0->google-cloud-storage->rocketbase) (1.17.0)\n",
      "Requirement already satisfied: six in /vol/home/s2508907/miniconda3/lib/python3.7/site-packages (from google-resumable-media<0.6dev,>=0.5.0->google-cloud-storage->rocketbase) (1.14.0)\n",
      "Requirement already satisfied: pyasn1-modules>=0.2.1 in /vol/home/s2508907/miniconda3/lib/python3.7/site-packages (from google-auth<2.0dev,>=1.11.0->google-cloud-storage->rocketbase) (0.2.8)\n",
      "Requirement already satisfied: rsa<4.1,>=3.1.4 in /vol/home/s2508907/miniconda3/lib/python3.7/site-packages (from google-auth<2.0dev,>=1.11.0->google-cloud-storage->rocketbase) (4.0)\n",
      "Requirement already satisfied: setuptools>=40.3.0 in /vol/home/s2508907/miniconda3/lib/python3.7/site-packages (from google-auth<2.0dev,>=1.11.0->google-cloud-storage->rocketbase) (46.4.0.post20200518)\n",
      "Requirement already satisfied: cachetools<5.0,>=2.0.0 in /vol/home/s2508907/miniconda3/lib/python3.7/site-packages (from google-auth<2.0dev,>=1.11.0->google-cloud-storage->rocketbase) (4.1.0)\n",
      "Requirement already satisfied: pytz in /vol/home/s2508907/miniconda3/lib/python3.7/site-packages (from google-api-core<2.0.0dev,>=1.16.0->google-cloud-core<2.0dev,>=1.2.0->google-cloud-storage->rocketbase) (2020.1)\n",
      "Requirement already satisfied: protobuf>=3.4.0 in /vol/home/s2508907/miniconda3/lib/python3.7/site-packages (from google-api-core<2.0.0dev,>=1.16.0->google-cloud-core<2.0dev,>=1.2.0->google-cloud-storage->rocketbase) (3.12.1)\n",
      "Requirement already satisfied: googleapis-common-protos<2.0dev,>=1.6.0 in /vol/home/s2508907/miniconda3/lib/python3.7/site-packages (from google-api-core<2.0.0dev,>=1.16.0->google-cloud-core<2.0dev,>=1.2.0->google-cloud-storage->rocketbase) (1.51.0)\n",
      "Requirement already satisfied: pyasn1<0.5.0,>=0.4.6 in /vol/home/s2508907/miniconda3/lib/python3.7/site-packages (from pyasn1-modules>=0.2.1->google-auth<2.0dev,>=1.11.0->google-cloud-storage->rocketbase) (0.4.8)\n",
      "Requirement already satisfied: Pillow in /vol/home/s2508907/miniconda3/lib/python3.7/site-packages (7.1.2)\n"
     ]
    }
   ],
   "source": [
    "!conda install pytorch torchvision cudatoolkit=10.0 -c pytorch\n",
    "!pip install torch \n",
    "!pip install rocketbase\n",
    "!pip install Pillow\n"
   ]
  },
  {
   "cell_type": "code",
   "execution_count": 20,
   "metadata": {},
   "outputs": [
    {
     "name": "stdout",
     "output_type": "stream",
     "text": [
      "Traceback (most recent call last):\r\n",
      "  File \"detect.py\", line 1, in <module>\r\n",
      "    import torch\r\n",
      "  File \"/vol/home/s2508907/miniconda3/lib/python3.7/site-packages/torch/__init__.py\", line 81, in <module>\r\n",
      "    from torch._C import *\r\n",
      "ImportError: /vol/home/s2508907/miniconda3/lib/python3.7/site-packages/torch/lib/../../../../libmkl_core.so: file too short\r\n"
     ]
    }
   ],
   "source": [
    "!python detect.py -i 100"
   ]
  },
  {
   "cell_type": "code",
   "execution_count": null,
   "metadata": {},
   "outputs": [],
   "source": []
  }
 ],
 "metadata": {
  "kernelspec": {
   "display_name": "Python 3",
   "language": "python",
   "name": "python3"
  },
  "language_info": {
   "codemirror_mode": {
    "name": "ipython",
    "version": 3
   },
   "file_extension": ".py",
   "mimetype": "text/x-python",
   "name": "python",
   "nbconvert_exporter": "python",
   "pygments_lexer": "ipython3",
   "version": "3.7.6"
  }
 },
 "nbformat": 4,
 "nbformat_minor": 4
}
